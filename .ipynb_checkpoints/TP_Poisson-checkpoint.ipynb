{
 "cells": [
  {
   "cell_type": "code",
   "execution_count": null,
   "metadata": {},
   "outputs": [],
   "source": []
  }
 ],
 "metadata": {
  "kernelspec": {
   "display_name": "Python 3",
   "language": "python",
   "name": "python3"
  },
  "language_info": {
   "name": "python",
   "version": "3.10.0 (tags/v3.10.0:b494f59, Oct  4 2021, 19:00:18) [MSC v.1929 64 bit (AMD64)]"
  },
  "vscode": {
   "interpreter": {
    "hash": "cc9c5b9d7e73d0a6482692a6f05d05c6b6079306fc54c435bdf6ad9191c91486"
   }
  }
 },
 "nbformat": 4,
 "nbformat_minor": 5
}
